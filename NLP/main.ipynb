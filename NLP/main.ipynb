{
 "cells": [
  {
   "cell_type": "markdown",
   "metadata": {},
   "source": [
    "## **NLP SUBMISSION DICODING**\n",
    "##### Nama    : Maulana Agus Setiawan\n",
    "##### Dataset : https://www.kaggle.com/datasets/gregorut/videogamesales"
   ]
  },
  {
   "cell_type": "markdown",
   "metadata": {},
   "source": [
    "<li>Import Library</li>"
   ]
  },
  {
   "cell_type": "code",
   "execution_count": 218,
   "metadata": {},
   "outputs": [],
   "source": [
    "import pandas as pd\n",
    "import tensorflow as tf\n",
    "import matplotlib.pyplot as plt\n",
    "from tensorflow.keras.preprocessing.text import Tokenizer\n",
    "from tensorflow.keras.preprocessing.sequence import pad_sequences\n",
    "from sklearn.model_selection import train_test_split\n",
    "from tensorflow.keras.callbacks import EarlyStopping"
   ]
  },
  {
   "cell_type": "markdown",
   "metadata": {},
   "source": [
    "<li>Read Data</li>"
   ]
  },
  {
   "cell_type": "code",
   "execution_count": 219,
   "metadata": {},
   "outputs": [
    {
     "data": {
      "text/html": [
       "<div>\n",
       "<style scoped>\n",
       "    .dataframe tbody tr th:only-of-type {\n",
       "        vertical-align: middle;\n",
       "    }\n",
       "\n",
       "    .dataframe tbody tr th {\n",
       "        vertical-align: top;\n",
       "    }\n",
       "\n",
       "    .dataframe thead th {\n",
       "        text-align: right;\n",
       "    }\n",
       "</style>\n",
       "<table border=\"1\" class=\"dataframe\">\n",
       "  <thead>\n",
       "    <tr style=\"text-align: right;\">\n",
       "      <th></th>\n",
       "      <th>Name</th>\n",
       "      <th>Genre</th>\n",
       "    </tr>\n",
       "  </thead>\n",
       "  <tbody>\n",
       "    <tr>\n",
       "      <th>0</th>\n",
       "      <td>Wii Sports</td>\n",
       "      <td>Sports</td>\n",
       "    </tr>\n",
       "    <tr>\n",
       "      <th>1</th>\n",
       "      <td>Super Mario Bros.</td>\n",
       "      <td>Platform</td>\n",
       "    </tr>\n",
       "    <tr>\n",
       "      <th>2</th>\n",
       "      <td>Mario Kart Wii</td>\n",
       "      <td>Racing</td>\n",
       "    </tr>\n",
       "    <tr>\n",
       "      <th>3</th>\n",
       "      <td>Wii Sports Resort</td>\n",
       "      <td>Sports</td>\n",
       "    </tr>\n",
       "    <tr>\n",
       "      <th>4</th>\n",
       "      <td>Pokemon Red/Pokemon Blue</td>\n",
       "      <td>Role-Playing</td>\n",
       "    </tr>\n",
       "    <tr>\n",
       "      <th>...</th>\n",
       "      <td>...</td>\n",
       "      <td>...</td>\n",
       "    </tr>\n",
       "    <tr>\n",
       "      <th>16593</th>\n",
       "      <td>Woody Woodpecker in Crazy Castle 5</td>\n",
       "      <td>Platform</td>\n",
       "    </tr>\n",
       "    <tr>\n",
       "      <th>16594</th>\n",
       "      <td>Men in Black II: Alien Escape</td>\n",
       "      <td>Shooter</td>\n",
       "    </tr>\n",
       "    <tr>\n",
       "      <th>16595</th>\n",
       "      <td>SCORE International Baja 1000: The Official Game</td>\n",
       "      <td>Racing</td>\n",
       "    </tr>\n",
       "    <tr>\n",
       "      <th>16596</th>\n",
       "      <td>Know How 2</td>\n",
       "      <td>Puzzle</td>\n",
       "    </tr>\n",
       "    <tr>\n",
       "      <th>16597</th>\n",
       "      <td>Spirits &amp; Spells</td>\n",
       "      <td>Platform</td>\n",
       "    </tr>\n",
       "  </tbody>\n",
       "</table>\n",
       "<p>16598 rows × 2 columns</p>\n",
       "</div>"
      ],
      "text/plain": [
       "                                                   Name         Genre\n",
       "0                                            Wii Sports        Sports\n",
       "1                                     Super Mario Bros.      Platform\n",
       "2                                        Mario Kart Wii        Racing\n",
       "3                                     Wii Sports Resort        Sports\n",
       "4                              Pokemon Red/Pokemon Blue  Role-Playing\n",
       "...                                                 ...           ...\n",
       "16593                Woody Woodpecker in Crazy Castle 5      Platform\n",
       "16594                     Men in Black II: Alien Escape       Shooter\n",
       "16595  SCORE International Baja 1000: The Official Game        Racing\n",
       "16596                                        Know How 2        Puzzle\n",
       "16597                                  Spirits & Spells      Platform\n",
       "\n",
       "[16598 rows x 2 columns]"
      ]
     },
     "execution_count": 219,
     "metadata": {},
     "output_type": "execute_result"
    }
   ],
   "source": [
    "df = pd.read_csv('vgsales.csv')\n",
    "df = df[['Name', 'Genre']]\n",
    "df"
   ]
  },
  {
   "cell_type": "code",
   "execution_count": 220,
   "metadata": {},
   "outputs": [
    {
     "name": "stdout",
     "output_type": "stream",
     "text": [
      "<class 'pandas.core.frame.DataFrame'>\n",
      "RangeIndex: 16598 entries, 0 to 16597\n",
      "Data columns (total 2 columns):\n",
      " #   Column  Non-Null Count  Dtype \n",
      "---  ------  --------------  ----- \n",
      " 0   Name    16598 non-null  object\n",
      " 1   Genre   16598 non-null  object\n",
      "dtypes: object(2)\n",
      "memory usage: 259.5+ KB\n"
     ]
    }
   ],
   "source": [
    "df.info()"
   ]
  },
  {
   "cell_type": "code",
   "execution_count": 221,
   "metadata": {},
   "outputs": [
    {
     "data": {
      "text/html": [
       "<div>\n",
       "<style scoped>\n",
       "    .dataframe tbody tr th:only-of-type {\n",
       "        vertical-align: middle;\n",
       "    }\n",
       "\n",
       "    .dataframe tbody tr th {\n",
       "        vertical-align: top;\n",
       "    }\n",
       "\n",
       "    .dataframe thead th {\n",
       "        text-align: right;\n",
       "    }\n",
       "</style>\n",
       "<table border=\"1\" class=\"dataframe\">\n",
       "  <thead>\n",
       "    <tr style=\"text-align: right;\">\n",
       "      <th></th>\n",
       "      <th>Name</th>\n",
       "      <th>Genre</th>\n",
       "    </tr>\n",
       "  </thead>\n",
       "  <tbody>\n",
       "    <tr>\n",
       "      <th>0</th>\n",
       "      <td>Wii Sports</td>\n",
       "      <td>Sports</td>\n",
       "    </tr>\n",
       "    <tr>\n",
       "      <th>1</th>\n",
       "      <td>Super Mario Bros.</td>\n",
       "      <td>Platform</td>\n",
       "    </tr>\n",
       "    <tr>\n",
       "      <th>2</th>\n",
       "      <td>Mario Kart Wii</td>\n",
       "      <td>Racing</td>\n",
       "    </tr>\n",
       "    <tr>\n",
       "      <th>3</th>\n",
       "      <td>Wii Sports Resort</td>\n",
       "      <td>Sports</td>\n",
       "    </tr>\n",
       "    <tr>\n",
       "      <th>4</th>\n",
       "      <td>Pokemon Red/Pokemon Blue</td>\n",
       "      <td>Role-Playing</td>\n",
       "    </tr>\n",
       "  </tbody>\n",
       "</table>\n",
       "</div>"
      ],
      "text/plain": [
       "                       Name         Genre\n",
       "0                Wii Sports        Sports\n",
       "1         Super Mario Bros.      Platform\n",
       "2            Mario Kart Wii        Racing\n",
       "3         Wii Sports Resort        Sports\n",
       "4  Pokemon Red/Pokemon Blue  Role-Playing"
      ]
     },
     "execution_count": 221,
     "metadata": {},
     "output_type": "execute_result"
    }
   ],
   "source": [
    "df.head()"
   ]
  },
  {
   "cell_type": "markdown",
   "metadata": {},
   "source": [
    "<li>Encoding</li>"
   ]
  },
  {
   "cell_type": "code",
   "execution_count": 222,
   "metadata": {},
   "outputs": [
    {
     "data": {
      "text/html": [
       "<div>\n",
       "<style scoped>\n",
       "    .dataframe tbody tr th:only-of-type {\n",
       "        vertical-align: middle;\n",
       "    }\n",
       "\n",
       "    .dataframe tbody tr th {\n",
       "        vertical-align: top;\n",
       "    }\n",
       "\n",
       "    .dataframe thead th {\n",
       "        text-align: right;\n",
       "    }\n",
       "</style>\n",
       "<table border=\"1\" class=\"dataframe\">\n",
       "  <thead>\n",
       "    <tr style=\"text-align: right;\">\n",
       "      <th></th>\n",
       "      <th>Name</th>\n",
       "      <th>Action</th>\n",
       "      <th>Adventure</th>\n",
       "      <th>Fighting</th>\n",
       "      <th>Misc</th>\n",
       "      <th>Platform</th>\n",
       "      <th>Puzzle</th>\n",
       "      <th>Racing</th>\n",
       "      <th>Role-Playing</th>\n",
       "      <th>Shooter</th>\n",
       "      <th>Simulation</th>\n",
       "      <th>Sports</th>\n",
       "      <th>Strategy</th>\n",
       "    </tr>\n",
       "  </thead>\n",
       "  <tbody>\n",
       "    <tr>\n",
       "      <th>0</th>\n",
       "      <td>Wii Sports</td>\n",
       "      <td>False</td>\n",
       "      <td>False</td>\n",
       "      <td>False</td>\n",
       "      <td>False</td>\n",
       "      <td>False</td>\n",
       "      <td>False</td>\n",
       "      <td>False</td>\n",
       "      <td>False</td>\n",
       "      <td>False</td>\n",
       "      <td>False</td>\n",
       "      <td>True</td>\n",
       "      <td>False</td>\n",
       "    </tr>\n",
       "    <tr>\n",
       "      <th>1</th>\n",
       "      <td>Super Mario Bros.</td>\n",
       "      <td>False</td>\n",
       "      <td>False</td>\n",
       "      <td>False</td>\n",
       "      <td>False</td>\n",
       "      <td>True</td>\n",
       "      <td>False</td>\n",
       "      <td>False</td>\n",
       "      <td>False</td>\n",
       "      <td>False</td>\n",
       "      <td>False</td>\n",
       "      <td>False</td>\n",
       "      <td>False</td>\n",
       "    </tr>\n",
       "    <tr>\n",
       "      <th>2</th>\n",
       "      <td>Mario Kart Wii</td>\n",
       "      <td>False</td>\n",
       "      <td>False</td>\n",
       "      <td>False</td>\n",
       "      <td>False</td>\n",
       "      <td>False</td>\n",
       "      <td>False</td>\n",
       "      <td>True</td>\n",
       "      <td>False</td>\n",
       "      <td>False</td>\n",
       "      <td>False</td>\n",
       "      <td>False</td>\n",
       "      <td>False</td>\n",
       "    </tr>\n",
       "    <tr>\n",
       "      <th>3</th>\n",
       "      <td>Wii Sports Resort</td>\n",
       "      <td>False</td>\n",
       "      <td>False</td>\n",
       "      <td>False</td>\n",
       "      <td>False</td>\n",
       "      <td>False</td>\n",
       "      <td>False</td>\n",
       "      <td>False</td>\n",
       "      <td>False</td>\n",
       "      <td>False</td>\n",
       "      <td>False</td>\n",
       "      <td>True</td>\n",
       "      <td>False</td>\n",
       "    </tr>\n",
       "    <tr>\n",
       "      <th>4</th>\n",
       "      <td>Pokemon Red/Pokemon Blue</td>\n",
       "      <td>False</td>\n",
       "      <td>False</td>\n",
       "      <td>False</td>\n",
       "      <td>False</td>\n",
       "      <td>False</td>\n",
       "      <td>False</td>\n",
       "      <td>False</td>\n",
       "      <td>True</td>\n",
       "      <td>False</td>\n",
       "      <td>False</td>\n",
       "      <td>False</td>\n",
       "      <td>False</td>\n",
       "    </tr>\n",
       "    <tr>\n",
       "      <th>...</th>\n",
       "      <td>...</td>\n",
       "      <td>...</td>\n",
       "      <td>...</td>\n",
       "      <td>...</td>\n",
       "      <td>...</td>\n",
       "      <td>...</td>\n",
       "      <td>...</td>\n",
       "      <td>...</td>\n",
       "      <td>...</td>\n",
       "      <td>...</td>\n",
       "      <td>...</td>\n",
       "      <td>...</td>\n",
       "      <td>...</td>\n",
       "    </tr>\n",
       "    <tr>\n",
       "      <th>16593</th>\n",
       "      <td>Woody Woodpecker in Crazy Castle 5</td>\n",
       "      <td>False</td>\n",
       "      <td>False</td>\n",
       "      <td>False</td>\n",
       "      <td>False</td>\n",
       "      <td>True</td>\n",
       "      <td>False</td>\n",
       "      <td>False</td>\n",
       "      <td>False</td>\n",
       "      <td>False</td>\n",
       "      <td>False</td>\n",
       "      <td>False</td>\n",
       "      <td>False</td>\n",
       "    </tr>\n",
       "    <tr>\n",
       "      <th>16594</th>\n",
       "      <td>Men in Black II: Alien Escape</td>\n",
       "      <td>False</td>\n",
       "      <td>False</td>\n",
       "      <td>False</td>\n",
       "      <td>False</td>\n",
       "      <td>False</td>\n",
       "      <td>False</td>\n",
       "      <td>False</td>\n",
       "      <td>False</td>\n",
       "      <td>True</td>\n",
       "      <td>False</td>\n",
       "      <td>False</td>\n",
       "      <td>False</td>\n",
       "    </tr>\n",
       "    <tr>\n",
       "      <th>16595</th>\n",
       "      <td>SCORE International Baja 1000: The Official Game</td>\n",
       "      <td>False</td>\n",
       "      <td>False</td>\n",
       "      <td>False</td>\n",
       "      <td>False</td>\n",
       "      <td>False</td>\n",
       "      <td>False</td>\n",
       "      <td>True</td>\n",
       "      <td>False</td>\n",
       "      <td>False</td>\n",
       "      <td>False</td>\n",
       "      <td>False</td>\n",
       "      <td>False</td>\n",
       "    </tr>\n",
       "    <tr>\n",
       "      <th>16596</th>\n",
       "      <td>Know How 2</td>\n",
       "      <td>False</td>\n",
       "      <td>False</td>\n",
       "      <td>False</td>\n",
       "      <td>False</td>\n",
       "      <td>False</td>\n",
       "      <td>True</td>\n",
       "      <td>False</td>\n",
       "      <td>False</td>\n",
       "      <td>False</td>\n",
       "      <td>False</td>\n",
       "      <td>False</td>\n",
       "      <td>False</td>\n",
       "    </tr>\n",
       "    <tr>\n",
       "      <th>16597</th>\n",
       "      <td>Spirits &amp; Spells</td>\n",
       "      <td>False</td>\n",
       "      <td>False</td>\n",
       "      <td>False</td>\n",
       "      <td>False</td>\n",
       "      <td>True</td>\n",
       "      <td>False</td>\n",
       "      <td>False</td>\n",
       "      <td>False</td>\n",
       "      <td>False</td>\n",
       "      <td>False</td>\n",
       "      <td>False</td>\n",
       "      <td>False</td>\n",
       "    </tr>\n",
       "  </tbody>\n",
       "</table>\n",
       "<p>16598 rows × 13 columns</p>\n",
       "</div>"
      ],
      "text/plain": [
       "                                                   Name  Action  Adventure  \\\n",
       "0                                            Wii Sports   False      False   \n",
       "1                                     Super Mario Bros.   False      False   \n",
       "2                                        Mario Kart Wii   False      False   \n",
       "3                                     Wii Sports Resort   False      False   \n",
       "4                              Pokemon Red/Pokemon Blue   False      False   \n",
       "...                                                 ...     ...        ...   \n",
       "16593                Woody Woodpecker in Crazy Castle 5   False      False   \n",
       "16594                     Men in Black II: Alien Escape   False      False   \n",
       "16595  SCORE International Baja 1000: The Official Game   False      False   \n",
       "16596                                        Know How 2   False      False   \n",
       "16597                                  Spirits & Spells   False      False   \n",
       "\n",
       "       Fighting   Misc  Platform  Puzzle  Racing  Role-Playing  Shooter  \\\n",
       "0         False  False     False   False   False         False    False   \n",
       "1         False  False      True   False   False         False    False   \n",
       "2         False  False     False   False    True         False    False   \n",
       "3         False  False     False   False   False         False    False   \n",
       "4         False  False     False   False   False          True    False   \n",
       "...         ...    ...       ...     ...     ...           ...      ...   \n",
       "16593     False  False      True   False   False         False    False   \n",
       "16594     False  False     False   False   False         False     True   \n",
       "16595     False  False     False   False    True         False    False   \n",
       "16596     False  False     False    True   False         False    False   \n",
       "16597     False  False      True   False   False         False    False   \n",
       "\n",
       "       Simulation  Sports  Strategy  \n",
       "0           False    True     False  \n",
       "1           False   False     False  \n",
       "2           False   False     False  \n",
       "3           False    True     False  \n",
       "4           False   False     False  \n",
       "...           ...     ...       ...  \n",
       "16593       False   False     False  \n",
       "16594       False   False     False  \n",
       "16595       False   False     False  \n",
       "16596       False   False     False  \n",
       "16597       False   False     False  \n",
       "\n",
       "[16598 rows x 13 columns]"
      ]
     },
     "execution_count": 222,
     "metadata": {},
     "output_type": "execute_result"
    }
   ],
   "source": [
    "category = pd.get_dummies(df.Genre)\n",
    "new_df = pd.concat([df, category], axis=1)\n",
    "new_df = new_df.drop(columns='Genre')\n",
    "new_df"
   ]
  },
  {
   "cell_type": "markdown",
   "metadata": {},
   "source": [
    "<li>Cek Nilai Null</li>"
   ]
  },
  {
   "cell_type": "code",
   "execution_count": 223,
   "metadata": {},
   "outputs": [
    {
     "data": {
      "text/plain": [
       "Name            0\n",
       "Action          0\n",
       "Adventure       0\n",
       "Fighting        0\n",
       "Misc            0\n",
       "Platform        0\n",
       "Puzzle          0\n",
       "Racing          0\n",
       "Role-Playing    0\n",
       "Shooter         0\n",
       "Simulation      0\n",
       "Sports          0\n",
       "Strategy        0\n",
       "dtype: int64"
      ]
     },
     "execution_count": 223,
     "metadata": {},
     "output_type": "execute_result"
    }
   ],
   "source": [
    "new_df.isna().sum()"
   ]
  },
  {
   "cell_type": "markdown",
   "metadata": {},
   "source": [
    "<li>Split Data</li>"
   ]
  },
  {
   "cell_type": "code",
   "execution_count": 224,
   "metadata": {},
   "outputs": [],
   "source": [
    "X = new_df['Name'].values\n",
    "y = new_df[[\n",
    "    'Action', 'Adventure', 'Fighting', 'Misc', \n",
    "    'Platform', 'Puzzle', 'Racing', 'Role-Playing', \n",
    "    'Shooter', 'Simulation', 'Sports', 'Strategy'\n",
    "]].values\n",
    "\n",
    "X_train, X_test, y_train, y_test = train_test_split(X, y, test_size=0.2)"
   ]
  },
  {
   "cell_type": "markdown",
   "metadata": {},
   "source": [
    "<li>Tokenizing</li>"
   ]
  },
  {
   "cell_type": "code",
   "execution_count": 225,
   "metadata": {},
   "outputs": [],
   "source": [
    "NW = 5000\n",
    "oov_tok = '-'\n",
    "\n",
    "tokenizer = Tokenizer(num_words=NW, oov_token=oov_tok)\n",
    "tokenizer.fit_on_texts(X_train)\n",
    "tokenizer.fit_on_texts(X_test)\n",
    "\n",
    "Xtrain_Seq = tokenizer.texts_to_sequences(X_train)\n",
    "Xtest_Seq  = tokenizer.texts_to_sequences(X_test)\n",
    "\n",
    "X_padded_train = pad_sequences(Xtrain_Seq)\n",
    "X_padded_test = pad_sequences(Xtest_Seq)"
   ]
  },
  {
   "cell_type": "markdown",
   "metadata": {},
   "source": [
    "<li>Modelling</li>"
   ]
  },
  {
   "cell_type": "code",
   "execution_count": 232,
   "metadata": {},
   "outputs": [],
   "source": [
    "model = tf.keras.Sequential([\n",
    "    tf.keras.layers.Embedding(input_dim=NW, output_dim=64),\n",
    "    tf.keras.layers.LSTM(128),\n",
    "    tf.keras.layers.Dense(64, activation='relu'),\n",
    "    tf.keras.layers.Dense(12, activation='softmax')\n",
    "])\n",
    "\n",
    "model.compile(\n",
    "    loss='categorical_crossentropy', \n",
    "    optimizer='adam', \n",
    "    metrics=['accuracy']\n",
    ")"
   ]
  },
  {
   "cell_type": "markdown",
   "metadata": {},
   "source": [
    "<li>Callbacks</li>"
   ]
  },
  {
   "cell_type": "code",
   "execution_count": 233,
   "metadata": {},
   "outputs": [],
   "source": [
    "callbacks = EarlyStopping(\n",
    "    monitor='val_accuracy',\n",
    "    patience=5,\n",
    "    restore_best_weights=True,\n",
    "    verbose=1,\n",
    ")"
   ]
  },
  {
   "cell_type": "markdown",
   "metadata": {},
   "source": [
    "<li>Proses Training</li>"
   ]
  },
  {
   "cell_type": "code",
   "execution_count": 234,
   "metadata": {},
   "outputs": [
    {
     "name": "stdout",
     "output_type": "stream",
     "text": [
      "Epoch 1/30\n",
      "415/415 [==============================] - 11s 22ms/step - loss: 1.9628 - accuracy: 0.3514 - val_loss: 1.4530 - val_accuracy: 0.5307\n",
      "Epoch 2/30\n",
      "415/415 [==============================] - 6s 14ms/step - loss: 1.0894 - accuracy: 0.6704 - val_loss: 1.0244 - val_accuracy: 0.7018\n",
      "Epoch 3/30\n",
      "415/415 [==============================] - 5s 13ms/step - loss: 0.6989 - accuracy: 0.7940 - val_loss: 0.9223 - val_accuracy: 0.7328\n",
      "Epoch 4/30\n",
      "415/415 [==============================] - 5s 13ms/step - loss: 0.5184 - accuracy: 0.8432 - val_loss: 0.9153 - val_accuracy: 0.7389\n",
      "Epoch 5/30\n",
      "415/415 [==============================] - 5s 13ms/step - loss: 0.4173 - accuracy: 0.8732 - val_loss: 0.9181 - val_accuracy: 0.7518\n",
      "Epoch 6/30\n",
      "415/415 [==============================] - 5s 13ms/step - loss: 0.3529 - accuracy: 0.8860 - val_loss: 0.9534 - val_accuracy: 0.7494\n",
      "Epoch 7/30\n",
      "415/415 [==============================] - 5s 12ms/step - loss: 0.3034 - accuracy: 0.9020 - val_loss: 0.9765 - val_accuracy: 0.7524\n",
      "Epoch 8/30\n",
      "415/415 [==============================] - 5s 13ms/step - loss: 0.2584 - accuracy: 0.9176 - val_loss: 1.0596 - val_accuracy: 0.7530\n",
      "Epoch 9/30\n",
      "415/415 [==============================] - 5s 13ms/step - loss: 0.2295 - accuracy: 0.9243 - val_loss: 1.1890 - val_accuracy: 0.7614\n",
      "Epoch 10/30\n",
      "415/415 [==============================] - 5s 13ms/step - loss: 0.2049 - accuracy: 0.9327 - val_loss: 1.2579 - val_accuracy: 0.7569\n",
      "Epoch 11/30\n",
      "415/415 [==============================] - 5s 13ms/step - loss: 0.1883 - accuracy: 0.9380 - val_loss: 1.2523 - val_accuracy: 0.7566\n",
      "Epoch 12/30\n",
      "415/415 [==============================] - 5s 13ms/step - loss: 0.1697 - accuracy: 0.9420 - val_loss: 1.3828 - val_accuracy: 0.7575\n",
      "Epoch 13/30\n",
      "415/415 [==============================] - 5s 12ms/step - loss: 0.1547 - accuracy: 0.9481 - val_loss: 1.3945 - val_accuracy: 0.7617\n",
      "Epoch 14/30\n",
      "415/415 [==============================] - 5s 13ms/step - loss: 0.1431 - accuracy: 0.9510 - val_loss: 1.4292 - val_accuracy: 0.7620\n",
      "Epoch 15/30\n",
      "415/415 [==============================] - 5s 13ms/step - loss: 0.1280 - accuracy: 0.9566 - val_loss: 1.5511 - val_accuracy: 0.7678\n",
      "Epoch 16/30\n",
      "415/415 [==============================] - 5s 13ms/step - loss: 0.1203 - accuracy: 0.9599 - val_loss: 1.6355 - val_accuracy: 0.7642\n",
      "Epoch 17/30\n",
      "415/415 [==============================] - 5s 12ms/step - loss: 0.1124 - accuracy: 0.9622 - val_loss: 1.6771 - val_accuracy: 0.7605\n",
      "Epoch 18/30\n",
      "415/415 [==============================] - 5s 13ms/step - loss: 0.1112 - accuracy: 0.9611 - val_loss: 1.6496 - val_accuracy: 0.7630\n",
      "Epoch 19/30\n",
      "415/415 [==============================] - 6s 13ms/step - loss: 0.1086 - accuracy: 0.9627 - val_loss: 1.7311 - val_accuracy: 0.7587\n",
      "Epoch 20/30\n",
      "413/415 [============================>.] - ETA: 0s - loss: 0.0938 - accuracy: 0.9680Restoring model weights from the end of the best epoch: 15.\n",
      "415/415 [==============================] - 5s 13ms/step - loss: 0.0942 - accuracy: 0.9679 - val_loss: 1.8239 - val_accuracy: 0.7617\n",
      "Epoch 20: early stopping\n"
     ]
    }
   ],
   "source": [
    "epoch = 30\n",
    "history = model.fit(\n",
    "    X_padded_train,\n",
    "    y_train,\n",
    "    epochs=epoch,\n",
    "    validation_data=(X_padded_test, y_test),\n",
    "    verbose=1,\n",
    "    callbacks=[callbacks]\n",
    ")"
   ]
  },
  {
   "cell_type": "markdown",
   "metadata": {},
   "source": [
    "<li>Evaluasi Model</li>"
   ]
  },
  {
   "cell_type": "code",
   "execution_count": null,
   "metadata": {},
   "outputs": [
    {
     "name": "stdout",
     "output_type": "stream",
     "text": [
      "104/104 [==============================] - 1s 7ms/step - loss: 1.3132 - accuracy: 0.7575\n",
      "Loss :  1.3131922483444214\n",
      "Accuracy :  0.7575300931930542\n"
     ]
    }
   ],
   "source": [
    "los, acc = model.evaluate(X_padded_test, y_test)\n",
    "\n",
    "print(\"Loss : \", los)\n",
    "print(\"Accuracy : \", acc)"
   ]
  },
  {
   "cell_type": "markdown",
   "metadata": {},
   "source": [
    "<li>Plotting</li>"
   ]
  },
  {
   "cell_type": "code",
   "execution_count": null,
   "metadata": {},
   "outputs": [
    {
     "data": {
      "image/png": "[encoded data removed]",
      "text/plain": [
       "<Figure size 1500x500 with 2 Axes>"
      ]
     },
     "metadata": {},
     "output_type": "display_data"
    }
   ],
   "source": [
    "plt.figure(figsize=(15, 5))\n",
    "plt.subplot(1, 2, 1)\n",
    "plt.plot(history.history['accuracy'], label='Training Accuracy')\n",
    "plt.plot(history.history['val_accuracy'], label='Validation Accuracy')\n",
    "plt.title('Accuracy Plot')\n",
    "plt.xlabel('Epoch')\n",
    "plt.ylabel('Accuracy')\n",
    "plt.legend()\n",
    "\n",
    "plt.subplot(1, 2, 2)\n",
    "plt.plot(history.history['loss'], label='Training Loss')\n",
    "plt.plot(history.history['val_loss'], label='Validation Loss')\n",
    "plt.title('Loss Plot')\n",
    "plt.xlabel('Epoch')\n",
    "plt.ylabel('Loss')\n",
    "plt.legend()\n",
    "\n",
    "plt.show()"
   ]
  }
 ],
 "metadata": {
  "kernelspec": {
   "display_name": "Python 3 (ipykernel)",
   "language": "python",
   "name": "python3"
  },
  "language_info": {
   "codemirror_mode": {
    "name": "ipython",
    "version": 3
   },
   "file_extension": ".py",
   "mimetype": "text/x-python",
   "name": "python",
   "nbconvert_exporter": "python",
   "pygments_lexer": "ipython3",
   "version": "3.10.12"
  }
 },
 "nbformat": 4,
 "nbformat_minor": 2
}
